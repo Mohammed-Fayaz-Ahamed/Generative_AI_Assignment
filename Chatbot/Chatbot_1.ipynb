{
  "nbformat": 4,
  "nbformat_minor": 0,
  "metadata": {
    "colab": {
      "provenance": [],
      "gpuType": "T4"
    },
    "kernelspec": {
      "name": "python3",
      "display_name": "Python 3"
    },
    "language_info": {
      "name": "python"
    },
    "accelerator": "GPU"
  },
  "cells": [
    {
      "cell_type": "code",
      "execution_count": 1,
      "metadata": {
        "id": "AFo_cRtJV7YX"
      },
      "outputs": [],
      "source": [
        "import datetime\n",
        "def greet_user():\n",
        "  \"\"\"Greets the user based on the current time.\"\"\"\n",
        "  hour = datetime.datetime.now().hour\n",
        "  if hour < 12:\n",
        "    return \"Good morning!\"\n",
        "  elif hour < 17:\n",
        "    return \"Good afternoon!\"\n",
        "  else:\n",
        "    return \"Good evening!\""
      ]
    },
    {
      "cell_type": "code",
      "source": [
        "def tell_time():\n",
        "  \"\"\"Provides the current time.\"\"\"\n",
        "  time_str = datetime.datetime.now().strftime(\"%H:%M:%S\")\n",
        "  return f\"The current time is {time_str}.\""
      ],
      "metadata": {
        "id": "1B8elHVYWS_K"
      },
      "execution_count": 2,
      "outputs": []
    },
    {
      "cell_type": "code",
      "source": [
        "def tell_joke():\n",
        "  \"\"\"Tells a simple joke.\"\"\"\n",
        "  return \"I tried starting a hot air balloon business, but it never took off.\""
      ],
      "metadata": {
        "id": "5jO2JVXyWXg6"
      },
      "execution_count": 3,
      "outputs": []
    },
    {
      "cell_type": "code",
      "source": [
        "def main():\n",
        "  while True:\n",
        "    user_input = input(\"You: \")\n",
        "    if user_input.lower() == \"hi\" or user_input.lower() == \"hello\":\n",
        "      print(greet_user())\n",
        "    elif user_input.lower() == \"what time is it\":\n",
        "      print(tell_time())\n",
        "    elif user_input.lower() == \"tell me a joke\":\n",
        "      print(tell_joke())\n",
        "    else:\n",
        "      print(\"I didn't understand that. Please try again.\")\n",
        "\n",
        "if __name__ == \"__main__\":\n",
        "  main()"
      ],
      "metadata": {
        "colab": {
          "base_uri": "https://localhost:8080/"
        },
        "id": "Gf_sGpHOWbtD",
        "outputId": "476c7dce-7d66-49ba-bf34-eea14f25f910"
      },
      "execution_count": null,
      "outputs": [
        {
          "output_type": "stream",
          "name": "stdout",
          "text": [
            "You: hi\n",
            "Good morning!\n",
            "You: hello\n",
            "Good morning!\n",
            "You: what time isit\n",
            "I didn't understand that. Please try again.\n",
            "You: what time is it\n",
            "The current time is 05:29:07.\n",
            "You: tell me a joke\n",
            "I tried starting a hot air balloon business, but it never took off.\n"
          ]
        }
      ]
    }
  ]
}