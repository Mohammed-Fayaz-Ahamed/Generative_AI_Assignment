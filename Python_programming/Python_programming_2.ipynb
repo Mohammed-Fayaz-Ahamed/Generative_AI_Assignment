{
  "nbformat": 4,
  "nbformat_minor": 0,
  "metadata": {
    "colab": {
      "provenance": []
    },
    "kernelspec": {
      "name": "python3",
      "display_name": "Python 3"
    },
    "language_info": {
      "name": "python"
    }
  },
  "cells": [
    {
      "cell_type": "code",
      "execution_count": 1,
      "metadata": {
        "id": "C0A1XX-cKuBY"
      },
      "outputs": [],
      "source": [
        "import string"
      ]
    },
    {
      "cell_type": "code",
      "source": [
        "def count_word_frequency(text):\n",
        "\n",
        "  text = text.lower().translate(str.maketrans(\"\", \"\", string.punctuation)) # Convert text to lowercase and remove punctuation\n",
        "  words = text.split()\n",
        "  word_count = {}\n",
        "  for word in words:\n",
        "    word_count[word] = word_count.get(word, 0) + 1\n",
        "  sorted_word_count = sorted(word_count.items(), key=lambda x: x[0])  # Sort by word\n",
        "  # sorted_word_count = sorted(word_count.items(), key=lambda x: x[1], reverse=True)  # Sort by frequency\n",
        "\n",
        "  return sorted_word_count"
      ],
      "metadata": {
        "id": "crB2kpvbLOqu"
      },
      "execution_count": 2,
      "outputs": []
    },
    {
      "cell_type": "code",
      "source": [
        "def main():\n",
        "  text = input(\"Enter a sentence or paragraph: \")\n",
        "  word_frequency = count_word_frequency(text)\n",
        "\n",
        "  print(\"Word Frequency:\")\n",
        "  for word, frequency in word_frequency:\n",
        "    print(f\"{word}: {frequency}\")\n",
        "\n",
        "if __name__ == \"__main__\":\n",
        "  main()"
      ],
      "metadata": {
        "colab": {
          "base_uri": "https://localhost:8080/"
        },
        "id": "ba4E_4C1LVQg",
        "outputId": "33307a89-2b54-4b49-88e1-ded991e53eaf"
      },
      "execution_count": 3,
      "outputs": [
        {
          "output_type": "stream",
          "name": "stdout",
          "text": [
            "Enter a sentence or paragraph: \"The quick brown fox jumps over the lazy dog. The dog barks at the cat.\"\n",
            "Word Frequency:\n",
            "at: 1\n",
            "barks: 1\n",
            "brown: 1\n",
            "cat: 1\n",
            "dog: 2\n",
            "fox: 1\n",
            "jumps: 1\n",
            "lazy: 1\n",
            "over: 1\n",
            "quick: 1\n",
            "the: 4\n"
          ]
        }
      ]
    }
  ]
}