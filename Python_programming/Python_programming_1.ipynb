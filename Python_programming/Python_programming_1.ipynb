{
  "nbformat": 4,
  "nbformat_minor": 0,
  "metadata": {
    "colab": {
      "provenance": []
    },
    "kernelspec": {
      "name": "python3",
      "display_name": "Python 3"
    },
    "language_info": {
      "name": "python"
    }
  },
  "cells": [
    {
      "cell_type": "code",
      "source": [
        "def calculate_grade(average_score):\n",
        "    if average_score >= 90:\n",
        "        return 'A'\n",
        "    elif average_score >= 80:\n",
        "        return 'B'\n",
        "    elif average_score >= 70:\n",
        "        return 'C'\n",
        "    elif average_score >= 60:\n",
        "        return 'D'\n",
        "    else:\n",
        "        return 'F'"
      ],
      "metadata": {
        "id": "esoMvPavGYPa"
      },
      "execution_count": 1,
      "outputs": []
    },
    {
      "cell_type": "code",
      "execution_count": 3,
      "metadata": {
        "id": "Iqt6-vpBE3c3"
      },
      "outputs": [],
      "source": [
        "def main():\n",
        "  num_subjects = int(input(\"Enter the number of subjects: \"))\n",
        "\n",
        "  total_score = 0\n",
        "  for i in range(num_subjects):\n",
        "    subject_name = input(f\"Enter subject {i+1} name: \")\n",
        "    score = int(input(f\"Enter score for {subject_name} (out of 100): \"))\n",
        "    total_score += score\n",
        "  average_score = total_score / num_subjects\n",
        "  grade = calculate_grade(average_score)\n",
        "  print(f\"\\nAverage Score: {average_score:.1f}\")\n",
        "  print(f\"Grade: {grade}\")\n",
        "\n",
        "  # Eligibility for honors\n",
        "  if average_score >= 90:\n",
        "        print(\"Eligible for Honors: Yes\")\n",
        "  else:\n",
        "        print(\"Eligible for Honors: No\")\n"
      ]
    },
    {
      "cell_type": "code",
      "source": [
        "if __name__ == \"__main__\":\n",
        "    main()"
      ],
      "metadata": {
        "colab": {
          "base_uri": "https://localhost:8080/"
        },
        "id": "xe40DmstHGFg",
        "outputId": "53910e9d-eb56-4dc8-f49b-23b827d4bdf5"
      },
      "execution_count": 4,
      "outputs": [
        {
          "output_type": "stream",
          "name": "stdout",
          "text": [
            "Enter the number of subjects: 4\n",
            "Enter subject 1 name: Maths\n",
            "Enter score for Maths (out of 100): 85\n",
            "Enter subject 2 name: Science\n",
            "Enter score for Science (out of 100): 80\n",
            "Enter subject 3 name: Social\n",
            "Enter score for Social (out of 100): 75\n",
            "Enter subject 4 name: English\n",
            "Enter score for English (out of 100): 78\n",
            "\n",
            "Average Score: 79.5\n",
            "Grade: C\n",
            "Eligible for Honors: No\n"
          ]
        }
      ]
    }
  ]
}